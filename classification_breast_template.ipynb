{
 "cells": [
  {
   "cell_type": "code",
   "execution_count": null,
   "id": "9c0e034a",
   "metadata": {},
   "outputs": [],
   "source": [
    "# !python --version\n",
    "# !pip install"
   ]
  },
  {
   "cell_type": "code",
   "execution_count": null,
   "id": "83b099bf",
   "metadata": {},
   "outputs": [],
   "source": [
    "import sklearn\n",
    "import sklearn.datasets\n",
    "# breast_data = sklearn.datasets.load_breast_cancer()"
   ]
  },
  {
   "cell_type": "code",
   "execution_count": null,
   "id": "783c7404",
   "metadata": {},
   "outputs": [],
   "source": [
    "import pandas as pd\n",
    "# data = pd.DataFrame(data=breast_data.data, columns=breast_data.feature_names)\n",
    "# data['target'] = breast_data.target\n",
    "\n",
    "# data.to_csv('breast_data.csv', sep=';', encoding='utf8',index=None)\n",
    "\n",
    "\n",
    "data = pd.read_csv('breast_data.csv', sep=',', encoding='utf8')"
   ]
  },
  {
   "cell_type": "code",
   "execution_count": null,
   "id": "c0094b9b",
   "metadata": {},
   "outputs": [],
   "source": [
    "data.head()"
   ]
  },
  {
   "cell_type": "code",
   "execution_count": null,
   "id": "4e621c64",
   "metadata": {},
   "outputs": [],
   "source": [
    "data.info()"
   ]
  },
  {
   "cell_type": "code",
   "execution_count": null,
   "id": "e7764fbd",
   "metadata": {},
   "outputs": [],
   "source": [
    "nans = data.isna()\n",
    "n_nans = nans.sum(axis = 0)\n",
    "print(n_nans)"
   ]
  },
  {
   "cell_type": "code",
   "execution_count": null,
   "id": "61124281",
   "metadata": {},
   "outputs": [],
   "source": [
    "target = 'target'\n",
    "feature_names = list(data.columns.values)\n",
    "feature_names.remove(target)\n",
    "print(target)\n",
    "print(feature_names)\n",
    "print(len(feature_names))"
   ]
  },
  {
   "cell_type": "code",
   "execution_count": null,
   "id": "afb9f021",
   "metadata": {},
   "outputs": [],
   "source": [
    "classes = data[target].unique()\n",
    "print(classes)"
   ]
  },
  {
   "cell_type": "code",
   "execution_count": null,
   "id": "9448b718",
   "metadata": {},
   "outputs": [],
   "source": [
    "data[target].value_counts().plot.pie(explode=[0.1,0.1],autopct='%1.1f%%',shadow=True,figsize=(4,4))"
   ]
  },
  {
   "cell_type": "code",
   "execution_count": null,
   "id": "46f54ee3",
   "metadata": {},
   "outputs": [],
   "source": [
    "import seaborn as sns\n",
    "# sns.pairplot(data,hue = target)"
   ]
  },
  {
   "cell_type": "code",
   "execution_count": null,
   "id": "40f81c49",
   "metadata": {},
   "outputs": [],
   "source": [
    "x = data[feature_names].corr()\n",
    "print(x)"
   ]
  },
  {
   "cell_type": "code",
   "execution_count": null,
   "id": "308bcb4b",
   "metadata": {},
   "outputs": [],
   "source": [
    "sns.heatmap(x)"
   ]
  },
  {
   "cell_type": "code",
   "execution_count": null,
   "id": "a59ed06b",
   "metadata": {},
   "outputs": [],
   "source": [
    "import seaborn as sns\n",
    "import matplotlib.pyplot as plt\n",
    "\n",
    "sns.set_style(\"darkgrid\")\n",
    "\n",
    "fig, ax = plt.subplots(nrows=5, ncols=2, figsize=(12, 18))  \n",
    "\n",
    "features = feature_names[:10]\n",
    "\n",
    "for i, feature in enumerate(features):\n",
    "    row, col = divmod(i, 2)  \n",
    "    sns.histplot(data=data, x=feature, hue=target, ax=ax[row, col])  \n",
    "    ax[row, col].set_title(f\"Distribution of {feature}\")\n",
    "\n",
    "plt.tight_layout(pad=5.0, w_pad=1.5, h_pad=2.5)\n",
    "plt.show()"
   ]
  },
  {
   "cell_type": "code",
   "execution_count": null,
   "id": "3adebfea",
   "metadata": {},
   "outputs": [],
   "source": []
  },
  {
   "cell_type": "code",
   "execution_count": null,
   "id": "8c3113e1",
   "metadata": {},
   "outputs": [],
   "source": [
    "from sklearn.decomposition import PCA\n",
    "from matplotlib import pyplot as plt\n",
    "\n",
    "pca = PCA(n_components=2)\n",
    "components = pca.fit_transform(data[feature_names])\n",
    "\n",
    "pca_data = pd.DataFrame(data=components, columns=['PC1', 'PC2'])\n",
    "pca_data[target] = data[target].values\n",
    "\n",
    "# fig = plt.scatter(components[:, 0], components[:, 1], color=data[target])\n",
    "# fig.show()\n",
    "\n",
    "import seaborn as sns\n",
    "sns.set_theme()\n",
    "\n",
    "sns.lmplot(\n",
    "    x='PC1', \n",
    "    y='PC2', \n",
    "    data=pca_data, \n",
    "    hue=target, \n",
    "    fit_reg=False, \n",
    "    legend=True\n",
    "    )\n",
    "\n",
    "plt.title('2D PCA Graph')\n",
    "plt.show()\n"
   ]
  },
  {
   "cell_type": "code",
   "execution_count": null,
   "id": "e3b615cb",
   "metadata": {},
   "outputs": [],
   "source": [
    "from sklearn.model_selection import train_test_split\n",
    "x_train, x_test, y_train, y_test = train_test_split(data[feature_names],\n",
    "                                                    data[target],\n",
    "                                                    train_size=0.8,\n",
    "                                                    test_size=0.2,\n",
    "                                                    shuffle=True)\n",
    "\n",
    "x_valid, x_test, y_valid, y_test = train_test_split(x_test,\n",
    "                                                    y_test,\n",
    "                                                    train_size=0.6,\n",
    "                                                    test_size=0.4,\n",
    "                                                    shuffle=True)\n",
    "print('train:')\n",
    "print(len(x_train))\n",
    "print(len(y_train))\n",
    "\n",
    "print('valid:')\n",
    "print(len(x_valid))\n",
    "print(len(y_valid))\n",
    "\n",
    "print('test:')\n",
    "print(len(x_test))\n",
    "print(len(y_test))"
   ]
  },
  {
   "cell_type": "code",
   "execution_count": null,
   "id": "48a62ab2",
   "metadata": {},
   "outputs": [],
   "source": [
    "from sklearn.linear_model import LogisticRegression\n",
    "from sklearn import metrics\n",
    "\n",
    "clf_reg = LogisticRegression(random_state=0, solver='liblinear').fit(x_train, y_train)"
   ]
  },
  {
   "cell_type": "code",
   "execution_count": null,
   "id": "4bccd739",
   "metadata": {},
   "outputs": [],
   "source": [
    "predicted = clf_reg.predict(x_train)\n",
    "print(metrics.classification_report(y_train, predicted))\n",
    "print(metrics.confusion_matrix(y_train, predicted))"
   ]
  },
  {
   "cell_type": "code",
   "execution_count": null,
   "id": "86c67b5e",
   "metadata": {},
   "outputs": [],
   "source": [
    "def get_pred_stat(clf, train=False):\n",
    "    if train:\n",
    "        print('---------TRAIN--------')\n",
    "        predicted = clf.predict(x_train)\n",
    "        print(metrics.classification_report(y_train, predicted))\n",
    "        print(metrics.confusion_matrix(y_train, predicted))\n",
    "    \n",
    "    print('---------VALID--------')\n",
    "    predicted = clf.predict(x_valid)\n",
    "    print(metrics.classification_report(y_valid, predicted))\n",
    "    print(metrics.confusion_matrix(y_valid, predicted))\n",
    "    \n",
    "    print('---------TEST--------')\n",
    "    predicted = clf.predict(x_test)\n",
    "    print(metrics.classification_report(y_test, predicted))\n",
    "    print(metrics.confusion_matrix(y_test, predicted))"
   ]
  },
  {
   "cell_type": "code",
   "execution_count": null,
   "id": "3f210f0a",
   "metadata": {},
   "outputs": [],
   "source": [
    "get_pred_stat(clf_reg)"
   ]
  },
  {
   "cell_type": "code",
   "execution_count": null,
   "id": "7321fb01",
   "metadata": {},
   "outputs": [],
   "source": [
    "clf_reg_2 = LogisticRegression(random_state=0, solver='newton-cg').fit(x_train, y_train)\n",
    "get_pred_stat(clf_reg_2)"
   ]
  },
  {
   "cell_type": "code",
   "execution_count": null,
   "id": "a172a796",
   "metadata": {},
   "outputs": [],
   "source": []
  }
 ],
 "metadata": {
  "kernelspec": {
   "display_name": "base",
   "language": "python",
   "name": "python3"
  },
  "language_info": {
   "codemirror_mode": {
    "name": "ipython",
    "version": 3
   },
   "file_extension": ".py",
   "mimetype": "text/x-python",
   "name": "python",
   "nbconvert_exporter": "python",
   "pygments_lexer": "ipython3",
   "version": "3.11.5"
  }
 },
 "nbformat": 4,
 "nbformat_minor": 5
}
